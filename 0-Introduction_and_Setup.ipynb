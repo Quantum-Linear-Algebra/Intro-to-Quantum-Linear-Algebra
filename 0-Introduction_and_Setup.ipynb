{
 "cells": [
  {
   "cell_type": "markdown",
   "id": "473c4c6f-6037-49f5-90e8-1ff3f707e2e4",
   "metadata": {},
   "source": [
    "# A Practical Guide to Quantum Linear Algebra"
   ]
  },
  {
   "cell_type": "markdown",
   "id": "56403f8e-0d47-4c4e-a8fb-63abc21cdb57",
   "metadata": {},
   "source": [
    "# Table of Contents \n",
    "\n",
    "* [Introduction](#intro)\n",
    "* [Overview](#overview)\n",
    "* [Setup](#setup)\n",
    "    * [Windows](#windows)"
   ]
  },
  {
   "cell_type": "markdown",
   "id": "22d8c681-f650-485d-86fb-af8d40c3226e",
   "metadata": {},
   "source": [
    "## Introduction <a name=\"intro\"></a>\n",
    "\n",
    "The goal of this repository will be to teach the basics of Quantum Linear Algebra at an undergraduate level in a hands on way. All code in this repository will have parameters to change along with explaination to explain quantum algorithms in a more intuitive sense. This repository is written as a supplement to the information contained in A Practical Guide to Quantum Linear Algebra (currently not published, but will be linked)."
   ]
  },
  {
   "cell_type": "markdown",
   "id": "f42b6a0d-2648-430b-9dfd-3f5fd950dde5",
   "metadata": {},
   "source": [
    "## Overview <a name=\"overview\"></a>\n",
    "This introduction is broken up into notbooks as followed\n",
    "\n",
    "* Introductory Materials\n",
    "  * Before any algorithms can be taught, we must first learn about the principles of qubits, how to visualize qubit states, the intricacies of measurement, and relation of all of that to the classical eigenvalue problem.\n",
    "* Hadamard Test (HT)\n",
    "  * After learning the basics of Qubits, the first phase estimation algorithm is introduced.\n",
    "* Quantum Fourier Transform (QFT) \n",
    "  * Before being able to discuss more complicated algorithms, we must have an understanding of a QFT, which is the needed for the next step in phase estimation.\n",
    "* Quantum Phase Estimation (QPE)\n",
    "  * After understanding QFT, many more complicated phase estimation algorithms can be introduced. The most basic algorithm that uses this fourier transform is QPE, thus is the next topic. \n",
    "* Quantum Phase Estimation verses Hadamard Test\n",
    "  * Now with an understanding of two different methods for phase estimation, we can compare them.\n",
    "* Transverse Field Ising Model (TFIM)\n",
    "  * Using all the knowledge of phase estimation, we can create code for a real world model, the Transverse Field Ising Model."
   ]
  },
  {
   "cell_type": "markdown",
   "id": "cd5bc4a7-c24a-4dbc-ad49-f90c9b4dd4e3",
   "metadata": {},
   "source": [
    "## Setup <a name=\"setup\"></a>\n",
    "\n",
    "Before we can run code we must first setup the required dependancies in a python environment. "
   ]
  },
  {
   "cell_type": "markdown",
   "id": "1a368aa0-6394-4f9b-b41c-8f8d5cf329ab",
   "metadata": {},
   "source": [
    "### Creating the Environment\n",
    "The steps for seting up the Python Environment will change depending on what OS you are using. Currently only windows setup is documented in this repository. The directions are a slight modification of [IBM's setup guide](https://docs.quantum.ibm.com/guides/install-qiskit), so for other Operating Systems follow the IBM's guide."
   ]
  },
  {
   "cell_type": "markdown",
   "id": "7b485d6d-f61e-4ea2-85ad-25256c456c00",
   "metadata": {},
   "source": [
    "#### Windows <a name=\"windows\"></a>"
   ]
  },
  {
   "cell_type": "markdown",
   "id": "9519a235-dede-4459-b8b2-897d59e2da76",
   "metadata": {},
   "source": [
    "Choose where you want your virtual environment to be located"
   ]
  },
  {
   "cell_type": "code",
   "execution_count": null,
   "id": "e83ce399-bc5b-4937-a753-828b3db9907d",
   "metadata": {},
   "outputs": [],
   "source": [
    "PATH = \"C:/Users/[your directory]/QLA-env\" # suggested location (can be anywhere you choose)"
   ]
  },
  {
   "cell_type": "markdown",
   "id": "5bcbed8c-7943-47dd-aa1f-f2daf0390da0",
   "metadata": {},
   "source": [
    "Create the environment with the code below"
   ]
  },
  {
   "cell_type": "code",
   "execution_count": null,
   "id": "40634f6d-5077-4c51-b434-9126da117ed6",
   "metadata": {},
   "outputs": [],
   "source": [
    "# the commands below run in your terminal\n",
    "! python3 -m venv {PATH}\n",
    "print(\"Successfully created the virtual environment\")\n",
    "! {PATH}\\Scripts\\Activate.bat\n",
    "print(\"Successfully activated the environment\")"
   ]
  },
  {
   "cell_type": "markdown",
   "id": "63a0ea15-6846-4da1-af77-17a8d702de11",
   "metadata": {},
   "source": [
    "or manually in your termial"
   ]
  },
  {
   "cell_type": "code",
   "execution_count": null,
   "id": "a612f4ef-8f73-4974-9c26-ef69e76d5fca",
   "metadata": {},
   "outputs": [],
   "source": [
    "# put the below commands in your terminal\n",
    "# don't forget to fill in [your directory]\n",
    "python3 -m venv C:/Users/[your directory]/QLA-env\n",
    "C:/Users/[your directory]/QLA-env\\Scripts\\Activate.bat"
   ]
  },
  {
   "cell_type": "markdown",
   "id": "fc19fcde-7855-45f5-a864-15b471552655",
   "metadata": {},
   "source": [
    "## Installing Required Libraries on the Environment"
   ]
  },
  {
   "cell_type": "markdown",
   "id": "20166482-5ff6-4874-9f35-ce6580a5b550",
   "metadata": {},
   "source": [
    "After creating the environment and activating it, we can install the required dependancies to run code in this notebook."
   ]
  },
  {
   "cell_type": "code",
   "execution_count": null,
   "id": "b1f60f84-66e5-4247-9d44-793134ea378b",
   "metadata": {
    "scrolled": true
   },
   "outputs": [],
   "source": [
    "! pip install qiskit==1.3\n",
    "! pip install qiskit[visualization]==1.1\n",
    "! pip install jupyter==1.1\n",
    "! pip install numpy==2.2"
   ]
  },
  {
   "cell_type": "markdown",
   "id": "b41170df-eed0-4952-b434-ea57a6b9f3e4",
   "metadata": {},
   "source": [
    "or in your termial"
   ]
  },
  {
   "cell_type": "code",
   "execution_count": null,
   "id": "55d6d391-00b8-4e00-af01-344deadd22d3",
   "metadata": {},
   "outputs": [],
   "source": [
    "pip install qiskit==1.3\n",
    "pip install qiskit[visualization]==1.1\n",
    "pip install jupyter==1.1\n",
    "pip install numpy==2.2"
   ]
  },
  {
   "cell_type": "markdown",
   "id": "1c7aa9b4-6cd8-407b-bce6-94bbc2b036c7",
   "metadata": {},
   "source": [
    "Open the new version of jupyter notebook in your environment"
   ]
  },
  {
   "cell_type": "code",
   "execution_count": null,
   "id": "d610314e-9ebd-4be0-b7c9-68511edc6211",
   "metadata": {},
   "outputs": [],
   "source": [
    "! jupyter notebook"
   ]
  },
  {
   "cell_type": "markdown",
   "id": "727c5aea-d0da-4247-9ca9-01a679b07a04",
   "metadata": {},
   "source": [
    "or"
   ]
  },
  {
   "cell_type": "code",
   "execution_count": null,
   "id": "d8fc2f51-72a5-4f94-b28f-18400780b67c",
   "metadata": {},
   "outputs": [],
   "source": [
    "jupyter notebook"
   ]
  },
  {
   "cell_type": "markdown",
   "id": "4ba45258-7671-48bf-9a03-1eecedb6bae2",
   "metadata": {},
   "source": [
    "Check the version of qiskit in your notebooks with either of the following commands (below are two ways to check the version)"
   ]
  },
  {
   "cell_type": "code",
   "execution_count": null,
   "id": "e1ffc2c3-5147-4239-8e42-3464675c0f35",
   "metadata": {},
   "outputs": [],
   "source": [
    "! pip show qiskit"
   ]
  },
  {
   "cell_type": "code",
   "execution_count": null,
   "id": "37f3c993-9d0a-4cda-8479-59eae077f2fb",
   "metadata": {},
   "outputs": [],
   "source": [
    "import qiskit\n",
    "qiskit.__version__"
   ]
  },
  {
   "cell_type": "markdown",
   "id": "c4d82d9d-ad54-48d1-84cc-9436e27a36fd",
   "metadata": {},
   "source": [
    "### Starting and stoping your environment\n",
    "\n",
    "When you want to come back and work again with this code you can use the following commands to start and stop the environment"
   ]
  },
  {
   "cell_type": "markdown",
   "id": "54d4f3d0-0708-43fd-b9e2-722d9fa559f2",
   "metadata": {},
   "source": [
    "Starting the environment"
   ]
  },
  {
   "cell_type": "code",
   "execution_count": null,
   "id": "7f33ba14-77f3-4319-af16-9356d3aa85a0",
   "metadata": {},
   "outputs": [],
   "source": [
    "PATH\\Scripts\\Activate.bat"
   ]
  },
  {
   "cell_type": "markdown",
   "id": "8fd23ee9-3433-4df7-9895-9fbd90a8b693",
   "metadata": {},
   "source": [
    "Stopping the environment"
   ]
  },
  {
   "cell_type": "code",
   "execution_count": null,
   "id": "cf94ef79-6978-4c2e-9efd-18a3ee512cb0",
   "metadata": {},
   "outputs": [],
   "source": [
    "deactivate"
   ]
  }
 ],
 "metadata": {
  "kernelspec": {
   "display_name": "Python 3 (ipykernel)",
   "language": "python",
   "name": "python3"
  },
  "language_info": {
   "codemirror_mode": {
    "name": "ipython",
    "version": 3
   },
   "file_extension": ".py",
   "mimetype": "text/x-python",
   "name": "python",
   "nbconvert_exporter": "python",
   "pygments_lexer": "ipython3",
   "version": "3.12.5"
  }
 },
 "nbformat": 4,
 "nbformat_minor": 5
}
