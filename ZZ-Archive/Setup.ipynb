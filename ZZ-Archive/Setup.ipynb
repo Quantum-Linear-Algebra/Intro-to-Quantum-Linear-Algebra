{
 "cells": [
  {
   "cell_type": "markdown",
   "id": "cd5bc4a7-c24a-4dbc-ad49-f90c9b4dd4e3",
   "metadata": {},
   "source": [
    "# Setup\n",
    "\n",
    "This notebook will include instruction on how to setup your environment and the basics how to use this repository."
   ]
  },
  {
   "cell_type": "markdown",
   "id": "1a368aa0-6394-4f9b-b41c-8f8d5cf329ab",
   "metadata": {},
   "source": [
    "## Environment Setup <a name=\"setup\"></a>\n",
    "The steps for seting up the Python Environment will change depending on what OS you are using.\n",
    "\n",
    "Currently only Windows Setup is Documented. \n",
    "\n",
    "The directions are a slight modification of [IBM's setup guide](https://docs.quantum.ibm.com/guides/install-qiskit), so for other Operating Systems follow the IBM guide."
   ]
  },
  {
   "cell_type": "markdown",
   "id": "c10e856a-edce-4078-bf4b-fe5dfef44695",
   "metadata": {},
   "source": [
    "# Table of Contents \n",
    "\n",
    "* [How this repository works](#intro)\n",
    "* [Setup](#setup)\n",
    "    * [Windows](#windows)"
   ]
  },
  {
   "cell_type": "markdown",
   "id": "7b485d6d-f61e-4ea2-85ad-25256c456c00",
   "metadata": {},
   "source": [
    "## Windows <a name=\"windows\"></a>"
   ]
  },
  {
   "cell_type": "markdown",
   "id": "9519a235-dede-4459-b8b2-897d59e2da76",
   "metadata": {},
   "source": [
    "Choose where you want your virtual environment to be located"
   ]
  },
  {
   "cell_type": "code",
   "execution_count": null,
   "id": "e83ce399-bc5b-4937-a753-828b3db9907d",
   "metadata": {},
   "outputs": [],
   "source": [
    "PATH = \"C:/Users/[your directory]/QLA-env\" # suggested location (can be anywhere you choose)"
   ]
  },
  {
   "cell_type": "markdown",
   "id": "5bcbed8c-7943-47dd-aa1f-f2daf0390da0",
   "metadata": {},
   "source": [
    "Create the environment with the code below"
   ]
  },
  {
   "cell_type": "code",
   "execution_count": null,
   "id": "40634f6d-5077-4c51-b434-9126da117ed6",
   "metadata": {},
   "outputs": [],
   "source": [
    "# the commands below run in your terminal\n",
    "! python3 -m venv {PATH}\n",
    "print(\"Successfully created the virtual environment\")\n",
    "! {PATH}\\Scripts\\Activate.bat\n",
    "print(\"Successfully activated the environment\")"
   ]
  },
  {
   "cell_type": "markdown",
   "id": "fc19fcde-7855-45f5-a864-15b471552655",
   "metadata": {},
   "source": [
    "## Installing Required Libraries on the Environment"
   ]
  },
  {
   "cell_type": "markdown",
   "id": "20166482-5ff6-4874-9f35-ce6580a5b550",
   "metadata": {},
   "source": [
    "Run the following commands in this notebook,"
   ]
  },
  {
   "cell_type": "code",
   "execution_count": null,
   "id": "b1f60f84-66e5-4247-9d44-793134ea378b",
   "metadata": {
    "scrolled": true
   },
   "outputs": [],
   "source": [
    "! pip install qiskit==1.1\n",
    "! pip install qiskit[visualization]==1.1\n",
    "! pip install jupyter==1.0\n",
    "! pip install numpy==2.0"
   ]
  },
  {
   "cell_type": "markdown",
   "id": "b41170df-eed0-4952-b434-ea57a6b9f3e4",
   "metadata": {},
   "source": [
    "or in your termial"
   ]
  },
  {
   "cell_type": "code",
   "execution_count": null,
   "id": "55d6d391-00b8-4e00-af01-344deadd22d3",
   "metadata": {},
   "outputs": [],
   "source": [
    "pip install qiskit==1.1\n",
    "pip install qiskit[visualization]==1.1\n",
    "pip install jupyter==1.0\n",
    "pip install numpy==2.0"
   ]
  },
  {
   "cell_type": "markdown",
   "id": "1c7aa9b4-6cd8-407b-bce6-94bbc2b036c7",
   "metadata": {},
   "source": [
    "Open the new version of jupyter notebook in your environment"
   ]
  },
  {
   "cell_type": "code",
   "execution_count": null,
   "id": "d610314e-9ebd-4be0-b7c9-68511edc6211",
   "metadata": {},
   "outputs": [],
   "source": [
    "! jupyter notebook"
   ]
  },
  {
   "cell_type": "markdown",
   "id": "4ba45258-7671-48bf-9a03-1eecedb6bae2",
   "metadata": {},
   "source": [
    "Check the version of qiskit in your notebooks with either of the following commands (below are two ways to check the version)"
   ]
  },
  {
   "cell_type": "code",
   "execution_count": null,
   "id": "e1ffc2c3-5147-4239-8e42-3464675c0f35",
   "metadata": {},
   "outputs": [],
   "source": [
    "! pip show qiskit"
   ]
  },
  {
   "cell_type": "code",
   "execution_count": null,
   "id": "37f3c993-9d0a-4cda-8479-59eae077f2fb",
   "metadata": {},
   "outputs": [],
   "source": [
    "import qiskit\n",
    "qiskit.__version__"
   ]
  },
  {
   "cell_type": "markdown",
   "id": "c4d82d9d-ad54-48d1-84cc-9436e27a36fd",
   "metadata": {},
   "source": [
    "### Starting and stoping your environment\n",
    "\n",
    "When you want to come back and work again with this code you can use the following commands"
   ]
  },
  {
   "cell_type": "markdown",
   "id": "54d4f3d0-0708-43fd-b9e2-722d9fa559f2",
   "metadata": {},
   "source": [
    "Starting the environment"
   ]
  },
  {
   "cell_type": "code",
   "execution_count": null,
   "id": "7f33ba14-77f3-4319-af16-9356d3aa85a0",
   "metadata": {},
   "outputs": [],
   "source": [
    "! PATH\\Scripts\\Activate.bat"
   ]
  },
  {
   "cell_type": "markdown",
   "id": "8fd23ee9-3433-4df7-9895-9fbd90a8b693",
   "metadata": {},
   "source": [
    "Stopping the environment"
   ]
  },
  {
   "cell_type": "code",
   "execution_count": null,
   "id": "cf94ef79-6978-4c2e-9efd-18a3ee512cb0",
   "metadata": {},
   "outputs": [],
   "source": [
    "! deactivate"
   ]
  },
  {
   "cell_type": "markdown",
   "id": "b51b27e7-fd66-4f0d-a3dd-0bc07bf0ab79",
   "metadata": {},
   "source": [
    "## (Work in Progress) Conda Setup\n",
    "Before being able to run the code from this repository locally you need to create a Python environment. You can do this with miniconda.\n",
    "\n",
    "https://docs.anaconda.com/miniconda/miniconda-install/\n",
    "\n",
    "After installing miniconda, open \"Anaconda Prompt\".\n",
    "\n",
    "### Install the Environment\n",
    "\n",
    "Download the provided"
   ]
  },
  {
   "cell_type": "code",
   "execution_count": null,
   "id": "2eb73377-6d2d-4ccf-bfd3-f52d80ac5f80",
   "metadata": {},
   "outputs": [],
   "source": []
  },
  {
   "cell_type": "markdown",
   "id": "71b9298c-021c-4ca8-a5c9-da9543253030",
   "metadata": {},
   "source": [
    "Activating the Environment\n",
    "\n",
    "Reopen the Anaconda Prompt and run this command"
   ]
  },
  {
   "cell_type": "code",
   "execution_count": null,
   "id": "160a74fe-b793-4bd5-8a2e-953710b87d92",
   "metadata": {},
   "outputs": [],
   "source": [
    "conda activate ./path/to/env "
   ]
  },
  {
   "cell_type": "markdown",
   "id": "05269b31-3b99-4ee8-a58d-a045482e5f29",
   "metadata": {},
   "source": [
    "After you are done working you can close the environment with the following command"
   ]
  },
  {
   "cell_type": "code",
   "execution_count": null,
   "id": "4d753e16-fe85-40a5-a927-ec676b1e00ff",
   "metadata": {},
   "outputs": [],
   "source": [
    "conda deactivate"
   ]
  },
  {
   "cell_type": "markdown",
   "id": "e1f74c60-1f01-4149-b532-f735c805dd6e",
   "metadata": {},
   "source": [
    "A personal prefrence is to change the default environment display to only show the name. The command below changes conda to do just that."
   ]
  },
  {
   "cell_type": "code",
   "execution_count": null,
   "id": "45d00fea-a586-4aa4-a48e-c09cfbc95dd8",
   "metadata": {},
   "outputs": [],
   "source": [
    "conda config --set env_prompt '({name})'"
   ]
  }
 ],
 "metadata": {
  "kernelspec": {
   "display_name": "Python 3 (ipykernel)",
   "language": "python",
   "name": "python3"
  },
  "language_info": {
   "codemirror_mode": {
    "name": "ipython",
    "version": 3
   },
   "file_extension": ".py",
   "mimetype": "text/x-python",
   "name": "python",
   "nbconvert_exporter": "python",
   "pygments_lexer": "ipython3",
   "version": "3.12.4"
  }
 },
 "nbformat": 4,
 "nbformat_minor": 5
}
