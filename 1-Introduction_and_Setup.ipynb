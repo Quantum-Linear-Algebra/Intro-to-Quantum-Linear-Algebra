{
 "cells": [
  {
   "cell_type": "markdown",
   "id": "473c4c6f-6037-49f5-90e8-1ff3f707e2e4",
   "metadata": {},
   "source": [
    "# A Practical Guide to Quantum Linear Algebra"
   ]
  },
  {
   "cell_type": "markdown",
   "id": "56403f8e-0d47-4c4e-a8fb-63abc21cdb57",
   "metadata": {},
   "source": [
    "## Table of Contents \n",
    "\n",
    "* [Introduction](#Introduction)\n",
    "* [Overview](#Overview)\n",
    "* [Setup](#Setup)\n",
    "* [Dependancies](#Dependancies)"
   ]
  },
  {
   "cell_type": "markdown",
   "id": "e3d4b05b",
   "metadata": {},
   "source": [
    "## Introduction"
   ]
  },
  {
   "cell_type": "markdown",
   "id": "22d8c681-f650-485d-86fb-af8d40c3226e",
   "metadata": {},
   "source": [
    "The goal of this repository will be to teach the basics of Quantum Linear Algebra at an undergraduate level in a hands on way. All code in this repository will have parameters to change along with explanations to padagogically explain quantum algorithms in an intuitive sense. This repository is written as a supplement to the information contained in A Practical Guide to Quantum Linear Algebra (currently not published, but will be linked)."
   ]
  },
  {
   "cell_type": "markdown",
   "id": "844a77d5",
   "metadata": {},
   "source": [
    "## Overview"
   ]
  },
  {
   "cell_type": "markdown",
   "id": "f42b6a0d-2648-430b-9dfd-3f5fd950dde5",
   "metadata": {},
   "source": [
    "This introduction is broken up into notebooks as follows:\n",
    "##### Introduction and Setup\n",
    "    This is the current notebook you are in which gives an introduction of the repository and a step-by-step walk through of how to set up this repository.\n",
    "##### Introductory Materials\n",
    "    This notebook provides an introduction to the fundamentals of quantum computing, covering the principles of qubits, visualization of qubit states, the intricacies of quantum measurement, and their connection to the classical eigenvalue problem.\n",
    "##### Hadamard Test (HT)\n",
    "    In this section, we present the Hadamard test (HT), a simple quantum circuit designed to estimate eigenvalues.\n",
    "##### Quantum Fourier Transform (QFT) \n",
    "    Before we can explore more advanced algorithms, it's essential to understand the quantum Fourier transform (QFT) $-$ a key component in many quantum algorithms. The QFT is the quantum analogue of the classical discrete Fourier transform, and it plays a central role in refining phase estimation by enabling efficient extraction of eigenvalue phases.\n",
    "##### Quantum Phase Estimation (QPE)\n",
    "    With a solid understanding of the QFT, we then introduce quantum phase estimation (QPE). This algorithm leverages the QFT to accurately extract eigenvalues.\n",
    "##### Quantum Phase Estimation verses Hadamard Test\n",
    "    Having explored two distinct methods for phase estimation, we compare their techniques and evaluate their relative advantages.\n",
    "##### Transverse Field Ising Model (TFIM)\n",
    "    With a solid foundation in phase estimation, we can now apply these techniques to a real-world example: the Transverse Field Ising Model (TFIM)."
   ]
  },
  {
   "cell_type": "markdown",
   "id": "eaee52c0",
   "metadata": {},
   "source": [
    "## Setup"
   ]
  },
  {
   "cell_type": "markdown",
   "id": "cd5bc4a7-c24a-4dbc-ad49-f90c9b4dd4e3",
   "metadata": {},
   "source": [
    "Before we can run code we must first setup the required dependancies in a python environment. We recommond using Visual Studio Code to use these notebooks."
   ]
  },
  {
   "cell_type": "markdown",
   "id": "1a368aa0-6394-4f9b-b41c-8f8d5cf329ab",
   "metadata": {},
   "source": [
    "### Creating the Environment\n",
    "The steps for seting up the Python Environment will change depending on what OS you are using. Currently only windows setup is documented in this repository. The directions are a slight modification of [IBM's setup guide](https://docs.quantum.ibm.com/guides/install-qiskit), so for other Operating Systems follow the IBM guide."
   ]
  },
  {
   "cell_type": "markdown",
   "id": "7b485d6d-f61e-4ea2-85ad-25256c456c00",
   "metadata": {},
   "source": [
    "#### Windows <a name=\"windows\"></a>"
   ]
  },
  {
   "cell_type": "markdown",
   "id": "9519a235-dede-4459-b8b2-897d59e2da76",
   "metadata": {},
   "source": [
    "Choose where you want your virtual environment to be located."
   ]
  },
  {
   "cell_type": "code",
   "execution_count": null,
   "id": "26b5545a-3524-4f30-986e-a6db129b16ae",
   "metadata": {},
   "outputs": [],
   "source": [
    "PATH = \"C:/Users/[your directory]/QLA-env\" # suggested location (can be anywhere you choose)"
   ]
  },
  {
   "cell_type": "markdown",
   "id": "5bcbed8c-7943-47dd-aa1f-f2daf0390da0",
   "metadata": {},
   "source": [
    "Create and activate the environment with the code below."
   ]
  },
  {
   "cell_type": "code",
   "execution_count": null,
   "id": "0ea9d0e3-b139-40fd-bbdc-14addaad3bb8",
   "metadata": {},
   "outputs": [],
   "source": [
    "# run the following commands in Powershell replacing the path with the path you entered above\n",
    "! python3 -m venv {PATH}\n",
    "! {PATH}\\Scripts\\Activate.bat"
   ]
  },
  {
   "cell_type": "markdown",
   "id": "fc19fcde-7855-45f5-a864-15b471552655",
   "metadata": {},
   "source": [
    "### Dependancies"
   ]
  },
  {
   "cell_type": "markdown",
   "id": "20166482-5ff6-4874-9f35-ce6580a5b550",
   "metadata": {},
   "source": [
    "After creating the environment and activating it, we can install the required dependancies to run code in this notebook. The required libraries should be installed on the previously mentioned environment."
   ]
  },
  {
   "cell_type": "code",
   "execution_count": null,
   "id": "b1f60f84-66e5-4247-9d44-793134ea378b",
   "metadata": {
    "scrolled": true
   },
   "outputs": [],
   "source": [
    "! pip install jupyter\n",
    "! pip install qiskit==2.0\n",
    "! pip install qiskit[visualization]\n",
    "! pip install qiskit_aer==0.17\n",
    "! pip install qiskit_ibm_runtime==0.39\n",
    "! pip install matplotlib==3.10\n",
    "! pip install numpy==2.2"
   ]
  },
  {
   "cell_type": "markdown",
   "id": "1c7aa9b4-6cd8-407b-bce6-94bbc2b036c7",
   "metadata": {},
   "source": [
    "After the libraries are installed on the virtual enviroment, open the notebooks using the commands below or connect the virtual environment to Visual Studio Code (https://code.visualstudio.com/docs/python/environments)."
   ]
  },
  {
   "cell_type": "code",
   "execution_count": null,
   "id": "e04a9d97",
   "metadata": {},
   "outputs": [],
   "source": [
    "! {PATH}\\Scripts\\Activate.bat\n",
    "! jupyter notebook"
   ]
  },
  {
   "cell_type": "markdown",
   "id": "11ebe139",
   "metadata": {},
   "source": [
    "Then check to see if all the libraries are installed correctly."
   ]
  },
  {
   "cell_type": "code",
   "execution_count": 10,
   "id": "3ef6bd9a",
   "metadata": {},
   "outputs": [
    {
     "name": "stdout",
     "output_type": "stream",
     "text": [
      "qiskit:\t\t\t 2.0.1\n",
      "qiskit_aer:\t\t 0.17.0\n",
      "qiskit_ibm_runtime:\t 0.39.0\n",
      "matplotlib:\t\t 3.10.3\n",
      "numpy:\t\t\t 2.2.6\n"
     ]
    }
   ],
   "source": [
    "import qiskit\n",
    "import qiskit_aer\n",
    "import qiskit_ibm_runtime\n",
    "import matplotlib\n",
    "import numpy\n",
    "\n",
    "print(\"qiskit:\\t\\t\\t\", qiskit.__version__)\n",
    "print(\"qiskit_aer:\\t\\t\", qiskit_aer.__version__)\n",
    "print(\"qiskit_ibm_runtime:\\t\", qiskit_ibm_runtime.__version__)\n",
    "print(\"matplotlib:\\t\\t\", matplotlib.__version__)\n",
    "print(\"numpy:\\t\\t\\t\", numpy.__version__)\n"
   ]
  },
  {
   "cell_type": "markdown",
   "id": "c4d82d9d-ad54-48d1-84cc-9436e27a36fd",
   "metadata": {},
   "source": [
    "### Starting and stoping your environment\n",
    "\n",
    "You can use the following commands to start and stop the environment when you want to come back and work on this code. "
   ]
  },
  {
   "cell_type": "markdown",
   "id": "dbe233cd",
   "metadata": {},
   "source": [
    "#### Windows"
   ]
  },
  {
   "cell_type": "markdown",
   "id": "54d4f3d0-0708-43fd-b9e2-722d9fa559f2",
   "metadata": {},
   "source": [
    "Starting the environment"
   ]
  },
  {
   "cell_type": "code",
   "execution_count": null,
   "id": "7f33ba14-77f3-4319-af16-9356d3aa85a0",
   "metadata": {},
   "outputs": [],
   "source": [
    "! PATH\\Scripts\\Activate"
   ]
  },
  {
   "cell_type": "markdown",
   "id": "8fd23ee9-3433-4df7-9895-9fbd90a8b693",
   "metadata": {},
   "source": [
    "Stopping the environment"
   ]
  },
  {
   "cell_type": "code",
   "execution_count": null,
   "id": "cf94ef79-6978-4c2e-9efd-18a3ee512cb0",
   "metadata": {},
   "outputs": [],
   "source": [
    "! deactivate"
   ]
  }
 ],
 "metadata": {
  "kernelspec": {
   "display_name": "Python 3 (ipykernel)",
   "language": "python",
   "name": "python3"
  },
  "language_info": {
   "codemirror_mode": {
    "name": "ipython",
    "version": 3
   },
   "file_extension": ".py",
   "mimetype": "text/x-python",
   "name": "python",
   "nbconvert_exporter": "python",
   "pygments_lexer": "ipython3",
   "version": "3.11.4"
  }
 },
 "nbformat": 4,
 "nbformat_minor": 5
}
