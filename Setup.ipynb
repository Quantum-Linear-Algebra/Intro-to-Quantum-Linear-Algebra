{
 "cells": [
  {
   "cell_type": "markdown",
   "id": "cd5bc4a7-c24a-4dbc-ad49-f90c9b4dd4e3",
   "metadata": {},
   "source": [
    "# Setup\n",
    "\n",
    "This notebook will include instruction on how to setup your environment and the basics how to use this repository"
   ]
  },
  {
   "cell_type": "markdown",
   "id": "c10e856a-edce-4078-bf4b-fe5dfef44695",
   "metadata": {},
   "source": [
    "# Table of Contents \n",
    "\n",
    "* [How this repository works](#intro)\n",
    "* [Setup](#setup)\n",
    "    * [Windows](#windows)"
   ]
  },
  {
   "cell_type": "markdown",
   "id": "d66d1b1d-d739-4cfa-836b-72e8aa6d3db1",
   "metadata": {},
   "source": [
    "## How this repository works <a name=\"intro\"></a>\n",
    "\n",
    "Some words"
   ]
  },
  {
   "cell_type": "markdown",
   "id": "1a368aa0-6394-4f9b-b41c-8f8d5cf329ab",
   "metadata": {},
   "source": [
    "## Environment Setup <a name=\"setup\"></a>\n",
    "This will probably change once I understand how to do conda stuff better\n",
    "\n",
    "The steps for seting up the Python Environment will change depending on what OS you are using. \n",
    "\n",
    "The directions are a slight modification of [IBM's setup guide](https://docs.quantum.ibm.com/guides/install-qiskit)"
   ]
  },
  {
   "cell_type": "markdown",
   "id": "7b485d6d-f61e-4ea2-85ad-25256c456c00",
   "metadata": {},
   "source": [
    "## Windows <a name=\"windows\"></a>\n",
    "This still needs to tested"
   ]
  },
  {
   "cell_type": "markdown",
   "id": "9519a235-dede-4459-b8b2-897d59e2da76",
   "metadata": {},
   "source": [
    "Choose where you want your virtual environment to be located"
   ]
  },
  {
   "cell_type": "code",
   "execution_count": null,
   "id": "e83ce399-bc5b-4937-a753-828b3db9907d",
   "metadata": {},
   "outputs": [],
   "source": [
    "PATH = \"C:/Users/[your directory]/QLA-environment\" # suggested location (can be anywhere you choose)"
   ]
  },
  {
   "cell_type": "markdown",
   "id": "5bcbed8c-7943-47dd-aa1f-f2daf0390da0",
   "metadata": {},
   "source": [
    "Create the environment with the code below"
   ]
  },
  {
   "cell_type": "code",
   "execution_count": null,
   "id": "40634f6d-5077-4c51-b434-9126da117ed6",
   "metadata": {},
   "outputs": [],
   "source": [
    "# the commands below run in your terminal\n",
    "! python3 -m venv {PATH}\n",
    "print(\"Successfully created the virtual environment\")\n",
    "! {PATH}\\Scripts\\Activate.bat\n",
    "print(\"Successfully activated the environment\")"
   ]
  },
  {
   "cell_type": "markdown",
   "id": "20166482-5ff6-4874-9f35-ce6580a5b550",
   "metadata": {},
   "source": [
    "After the OS specific installalations you can install the nessasary libraries from python onto your currectly open environment"
   ]
  },
  {
   "cell_type": "code",
   "execution_count": null,
   "id": "b1f60f84-66e5-4247-9d44-793134ea378b",
   "metadata": {
    "scrolled": true
   },
   "outputs": [],
   "source": [
    "! pip install qiskit==1.1\n",
    "! pip install qiskit[visualization]==1.1\n",
    "! pip install jupyter==1.0\n",
    "! pip install numpy==2.0"
   ]
  },
  {
   "cell_type": "markdown",
   "id": "1c7aa9b4-6cd8-407b-bce6-94bbc2b036c7",
   "metadata": {},
   "source": [
    "Open the new version of jupyter notebook in your environment"
   ]
  },
  {
   "cell_type": "code",
   "execution_count": null,
   "id": "d610314e-9ebd-4be0-b7c9-68511edc6211",
   "metadata": {},
   "outputs": [],
   "source": [
    "! jupyter notebook"
   ]
  },
  {
   "cell_type": "markdown",
   "id": "4ba45258-7671-48bf-9a03-1eecedb6bae2",
   "metadata": {},
   "source": [
    "Most of the problems when trying to run code with qiskit is a mismatch version (below are two ways to check the version)"
   ]
  },
  {
   "cell_type": "code",
   "execution_count": null,
   "id": "e1ffc2c3-5147-4239-8e42-3464675c0f35",
   "metadata": {},
   "outputs": [],
   "source": [
    "! pip show qiskit"
   ]
  },
  {
   "cell_type": "code",
   "execution_count": null,
   "id": "37f3c993-9d0a-4cda-8479-59eae077f2fb",
   "metadata": {},
   "outputs": [],
   "source": [
    "import qiskit\n",
    "qiskit.__version__"
   ]
  },
  {
   "cell_type": "markdown",
   "id": "c4d82d9d-ad54-48d1-84cc-9436e27a36fd",
   "metadata": {},
   "source": [
    "### Starting and stoping your environment\n",
    "\n",
    "When you want to come back and work again with this code you can use the following commands"
   ]
  },
  {
   "cell_type": "markdown",
   "id": "54d4f3d0-0708-43fd-b9e2-722d9fa559f2",
   "metadata": {},
   "source": [
    "Starting the environment"
   ]
  },
  {
   "cell_type": "code",
   "execution_count": null,
   "id": "7f33ba14-77f3-4319-af16-9356d3aa85a0",
   "metadata": {},
   "outputs": [],
   "source": [
    "! PATH\\Scripts\\Activate.bat"
   ]
  },
  {
   "cell_type": "markdown",
   "id": "8fd23ee9-3433-4df7-9895-9fbd90a8b693",
   "metadata": {},
   "source": [
    "Stopping the environment"
   ]
  },
  {
   "cell_type": "code",
   "execution_count": null,
   "id": "cf94ef79-6978-4c2e-9efd-18a3ee512cb0",
   "metadata": {},
   "outputs": [],
   "source": [
    "! deactivate"
   ]
  }
 ],
 "metadata": {
  "kernelspec": {
   "display_name": "Python 3 (ipykernel)",
   "language": "python",
   "name": "python3"
  },
  "language_info": {
   "codemirror_mode": {
    "name": "ipython",
    "version": 3
   },
   "file_extension": ".py",
   "mimetype": "text/x-python",
   "name": "python",
   "nbconvert_exporter": "python",
   "pygments_lexer": "ipython3",
   "version": "3.12.4"
  }
 },
 "nbformat": 4,
 "nbformat_minor": 5
}
